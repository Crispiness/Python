{
 "cells": [
  {
   "cell_type": "code",
   "execution_count": 9,
   "metadata": {},
   "outputs": [
    {
     "name": "stdin",
     "output_type": "stream",
     "text": [
      "Enter two integers:  8 5\n"
     ]
    },
    {
     "name": "stdout",
     "output_type": "stream",
     "text": [
      "8 + 5 = 13\n",
      "8 - 5 = 3\n",
      "8 * 5 = 40\n",
      "8 / 5 = 1.6\n",
      "8 % 5 = 3\n"
     ]
    }
   ],
   "source": [
    "numbers = input('Enter two integers: ').split()\n",
    "\n",
    "one, two = numbers\n",
    "\n",
    "one = int(one)\n",
    "two = int(two)\n",
    "\n",
    "print(\"%d + %d = %d\" %(one,two,one+two))\n",
    "print(\"%d - %d = %d\" %(one,two,one-two))\n",
    "print(\"%d * %d = %d\" %(one,two,one*two))\n",
    "print(\"%d / %d = %0.1f\" %(one,two,one/two))\n",
    "print(\"%d %% %d = %d\" %(one,two,one%two))"
   ]
  },
  {
   "cell_type": "code",
   "execution_count": 13,
   "metadata": {},
   "outputs": [
    {
     "name": "stdin",
     "output_type": "stream",
     "text": [
      "Enter two integers:  70 91\n"
     ]
    },
    {
     "name": "stdout",
     "output_type": "stream",
     "text": [
      "The sum of 70 and 91 is 161\n",
      "The average of numbers is 80.5\n"
     ]
    }
   ],
   "source": [
    "numbers = input('Enter two integers: ').split()\n",
    "\n",
    "one, two = numbers\n",
    "\n",
    "one = int(one)\n",
    "two = int(two)\n",
    "\n",
    "print(\"The sum of %d and %d is %d\" %(one,two,one+two))\n",
    "print(\"The average of numbers is %0.1f\" %((one+two)/len(numbers)))"
   ]
  },
  {
   "cell_type": "code",
   "execution_count": null,
   "metadata": {},
   "outputs": [],
   "source": [
    "date = input('날짜(연/월/일)입력: ')\n",
    "# 코드 채우기"
   ]
  }
 ],
 "metadata": {
  "kernelspec": {
   "display_name": "Python 3",
   "language": "python",
   "name": "python3"
  },
  "language_info": {
   "codemirror_mode": {
    "name": "ipython",
    "version": 3
   },
   "file_extension": ".py",
   "mimetype": "text/x-python",
   "name": "python",
   "nbconvert_exporter": "python",
   "pygments_lexer": "ipython3",
   "version": "3.7.3"
  }
 },
 "nbformat": 4,
 "nbformat_minor": 2
}

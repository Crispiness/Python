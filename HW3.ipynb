{
 "cells": [
  {
   "cell_type": "markdown",
   "metadata": {},
   "source": [
    "# 딕셔너리"
   ]
  },
  {
   "cell_type": "markdown",
   "metadata": {},
   "source": [
    "## 실습1"
   ]
  },
  {
   "cell_type": "code",
   "execution_count": 4,
   "metadata": {},
   "outputs": [
    {
     "name": "stdout",
     "output_type": "stream",
     "text": [
      "1 2 10 "
     ]
    }
   ],
   "source": [
    "d = {'youn': 1, 'park': 2, 'kim': 10}\n",
    "\n",
    "for i in d.values() :\n",
    "    print (i, end =\" \")"
   ]
  },
  {
   "cell_type": "markdown",
   "metadata": {},
   "source": [
    "## 실습2"
   ]
  },
  {
   "cell_type": "code",
   "execution_count": 40,
   "metadata": {},
   "outputs": [
    {
     "name": "stdout",
     "output_type": "stream",
     "text": [
      "five 5\n",
      "four 4\n",
      "one 1\n",
      "three 3\n",
      "two 2\n"
     ]
    }
   ],
   "source": [
    "d = {'one':1, 'two':2, 'three':3, 'four':4, 'five':5} \n",
    "dic_list = []\n",
    "\n",
    "for i in d.items() :\n",
    "    dic_list.append([i[0], i[1]])\n",
    "    \n",
    "dic_list.sort()\n",
    "\n",
    "for i in dic_list :\n",
    "    print (*i)"
   ]
  },
  {
   "cell_type": "markdown",
   "metadata": {},
   "source": [
    "## 실습3"
   ]
  },
  {
   "cell_type": "code",
   "execution_count": 41,
   "metadata": {},
   "outputs": [
    {
     "name": "stdin",
     "output_type": "stream",
     "text": [
      "Enter a sentence:  Python is fun!\n"
     ]
    },
    {
     "name": "stdout",
     "output_type": "stream",
     "text": [
      "{'P': 1, 'y': 1, 't': 1, 'h': 1, 'o': 1, 'n': 2, ' ': 2, 'i': 1, 's': 1, 'f': 1, 'u': 1, '!': 1}\n"
     ]
    }
   ],
   "source": [
    "numberlist = list(input(\"Enter a sentence: \"))\n",
    "dict1 = {}\n",
    "\n",
    "for i in numberlist :\n",
    "    dict1[i] = numberlist.count(i)\n",
    "    \n",
    "print(dict1)"
   ]
  },
  {
   "cell_type": "markdown",
   "metadata": {},
   "source": [
    "# 파일"
   ]
  },
  {
   "cell_type": "markdown",
   "metadata": {},
   "source": [
    "## 실습1"
   ]
  },
  {
   "cell_type": "code",
   "execution_count": 42,
   "metadata": {},
   "outputs": [
    {
     "name": "stdout",
     "output_type": "stream",
     "text": [
      "first 1\n",
      "line 3\n",
      "second 1\n",
      "third 1\n"
     ]
    }
   ],
   "source": [
    "f =  open(\"test.txt\", \"w\")\n",
    "\n",
    "list = ['first','second','third']\n",
    "\n",
    "for i in list:\n",
    "    data = \"%s line\\n\" %i\n",
    "    f.write(data)\n",
    "\n",
    "f.close()\n",
    "\n",
    "\n",
    "f =  open(\"test.txt\", \"r\")\n",
    "\n",
    "data = f.read().split()\n",
    "test = {}\n",
    "\n",
    "for var in data:\n",
    "    if var in test:\n",
    "        test[var] = test[var] + 1\n",
    "    else:\n",
    "        test[var] = 1\n",
    "\n",
    "for key, value in test.items():\n",
    "    print(key, value)\n",
    "    \n",
    "f.close()"
   ]
  },
  {
   "cell_type": "markdown",
   "metadata": {},
   "source": [
    "# 실습2"
   ]
  },
  {
   "cell_type": "code",
   "execution_count": 153,
   "metadata": {},
   "outputs": [
    {
     "name": "stdin",
     "output_type": "stream",
     "text": [
      "Enter a file name: test.txt\n"
     ]
    },
    {
     "name": "stdout",
     "output_type": "stream",
     "text": [
      "FIRST LINE\n",
      "SECOND LINE\n",
      "THIRD LINE\n"
     ]
    }
   ],
   "source": [
    "file_name = input(\"Enter a file name:\")\n",
    "f =  open(file_name, \"r\")\n",
    "\n",
    "data = f.read().upper()\n",
    "\n",
    "print(data, end=\"\")\n",
    "\n",
    "f.close()"
   ]
  },
  {
   "cell_type": "markdown",
   "metadata": {},
   "source": [
    "# 실습4"
   ]
  },
  {
   "cell_type": "code",
   "execution_count": 60,
   "metadata": {},
   "outputs": [],
   "source": [
    "import random\n",
    "\n",
    "f =  open(\"score.txt\", \"w\")\n",
    "\n",
    "for i in range (1,11,1):\n",
    "    data = \"2019%02d %2d %2d \\n\"%(i, random.randint(50, 100),random.randint(50, 100))\n",
    "    f.write (data)\n",
    "\n",
    "f.close()"
   ]
  },
  {
   "cell_type": "code",
   "execution_count": 141,
   "metadata": {},
   "outputs": [
    {
     "name": "stdout",
     "output_type": "stream",
     "text": [
      "201901 91 100 95.5(A)\n",
      "\n",
      "201902 99 63 81.0(B)\n",
      "\n",
      "201903 72 83 77.5(C)\n",
      "\n",
      "201904 85 55 70.0(C)\n",
      "\n",
      "201905 85 76 80.5(B)\n",
      "\n",
      "201906 79 50 64.5(D)\n",
      "\n",
      "201907 85 87 86.0(B)\n",
      "\n",
      "201908 52 88 70.0(C)\n",
      "\n",
      "201909 68 60 64.0(D)\n",
      "\n",
      "201910 100 74 87.0(B)\n"
     ]
    }
   ],
   "source": [
    "f =  open(\"score.txt\", \"r\")\n",
    "d = {}\n",
    "data_list = []\n",
    "key=[]; mid=[]; final = []; grade_aver = []; average = []\n",
    "data_list = f.read().split(\" \")\n",
    "\n",
    "for i in range(0,len(data_list)-1,3):\n",
    "    key.append(data_list[i])\n",
    "    mid.append(data_list[i+1])\n",
    "    final.append(data_list[i+2])\n",
    "\n",
    "for i in range(0,len(key),1):\n",
    "    average.append((float(mid[i])+float(final[i]))/2)\n",
    "    grade_aver.append(str(average[i]))\n",
    "    \n",
    "    if average[i] >= 90 :\n",
    "            grade_aver[i] = grade_aver[i] + \"(A)\"\n",
    "    elif average[i] >= 80 :\n",
    "            grade_aver[i] = grade_aver[i] + \"(B)\"\n",
    "    elif average[i] >= 70 :\n",
    "            grade_aver[i] = grade_aver[i] + \"(C)\"\n",
    "    elif average[i] >= 60 :\n",
    "            grade_aver[i] = grade_aver[i] + \"(D)\"\n",
    "    else:\n",
    "            grade_aver[i] = grade_aver[i] + \"(F)\"\n",
    "\n",
    "g =  open(\"report.txt\", \"w\")\n",
    "\n",
    "for i in range(0, len(key)) :\n",
    "    data = (key[i] +\" \"+ mid[i]+\" \" + final[i]+\" \" + grade_aver[i])\n",
    "    print(data)\n",
    "    g.write(data)\n",
    "\n",
    "f.close()\n",
    "g.close()"
   ]
  },
  {
   "cell_type": "markdown",
   "metadata": {},
   "source": [
    "# 과제 1"
   ]
  },
  {
   "cell_type": "code",
   "execution_count": 163,
   "metadata": {},
   "outputs": [
    {
     "name": "stdout",
     "output_type": "stream",
     "text": [
      "13는 소수입니다.\n",
      "15는 소수가 아닙니다.\n"
     ]
    }
   ],
   "source": [
    "def check_prime(num):\n",
    "    value = 0\n",
    "    for i in range(1,num+1):\n",
    "        if num%i == 0:\n",
    "            value += 1\n",
    "        \n",
    "        else :\n",
    "            continue\n",
    "            \n",
    "    if value == 2 :\n",
    "        return True\n",
    "    \n",
    "    else :\n",
    "        return False\n",
    "    \n",
    "def main():\n",
    "    a=13\n",
    "    b=15\n",
    "    if check_prime(a):\n",
    "        print(str(a)+'는 소수입니다.')\n",
    "    else :\n",
    "        print(str(a)+'는 소수가 아닙니다.')\n",
    "        \n",
    "    if check_prime(b):\n",
    "        print(str(b)+'는 소수입니다.')\n",
    "    else :\n",
    "        print(str(b)+'는 소수가 아닙니다.')\n",
    "        \n",
    "if __name__ == '__main__' :\n",
    "    main()"
   ]
  },
  {
   "cell_type": "code",
   "execution_count": null,
   "metadata": {},
   "outputs": [],
   "source": []
  },
  {
   "cell_type": "code",
   "execution_count": null,
   "metadata": {},
   "outputs": [],
   "source": []
  }
 ],
 "metadata": {
  "kernelspec": {
   "display_name": "Python 3",
   "language": "python",
   "name": "python3"
  },
  "language_info": {
   "codemirror_mode": {
    "name": "ipython",
    "version": 3
   },
   "file_extension": ".py",
   "mimetype": "text/x-python",
   "name": "python",
   "nbconvert_exporter": "python",
   "pygments_lexer": "ipython3",
   "version": "3.7.3"
  }
 },
 "nbformat": 4,
 "nbformat_minor": 2
}

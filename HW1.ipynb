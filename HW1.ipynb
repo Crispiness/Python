{
 "cells": [
  {
   "cell_type": "markdown",
   "metadata": {},
   "source": [
    "# 문제1 "
   ]
  },
  {
   "cell_type": "code",
   "execution_count": 8,
   "metadata": {},
   "outputs": [
    {
     "name": "stdin",
     "output_type": "stream",
     "text": [
      "화씨온도: 100\n"
     ]
    },
    {
     "name": "stdout",
     "output_type": "stream",
     "text": [
      "화씨온도: 100\n",
      "섭씨온도: 37.77777777777778\n"
     ]
    }
   ],
   "source": [
    "a = int(input(\"화씨온도:\"))\n",
    "b = (a-32)*5/9\n",
    "\n",
    "print(\"화씨온도:\",a)\n",
    "print(\"섭씨온도:\",b)"
   ]
  },
  {
   "cell_type": "markdown",
   "metadata": {},
   "source": [
    "# 문제2"
   ]
  },
  {
   "cell_type": "code",
   "execution_count": 4,
   "metadata": {},
   "outputs": [
    {
     "name": "stdin",
     "output_type": "stream",
     "text": [
      "투입한돈: 40000\n",
      "물건값: 39000\n"
     ]
    },
    {
     "name": "stdout",
     "output_type": "stream",
     "text": [
      "거스름돈: 1000\n",
      "500원 짜리: 2\n",
      "100원 짜리: 0\n"
     ]
    }
   ],
   "source": [
    "a = int(input(\"투입한돈:\"))\n",
    "b = int(input(\"물건값:\"))\n",
    "c = a - b \n",
    "\n",
    "C500 = c // 500\n",
    "d = c - 500*C500\n",
    "\n",
    "C100 = d // 100\n",
    "\n",
    "print(\"거스름돈:\",c)\n",
    "print(\"500원 짜리:\",C500)\n",
    "print(\"100원 짜리:\",C100)"
   ]
  },
  {
   "cell_type": "markdown",
   "metadata": {},
   "source": [
    "# 문제3 "
   ]
  },
  {
   "cell_type": "code",
   "execution_count": 5,
   "metadata": {},
   "outputs": [
    {
     "name": "stdin",
     "output_type": "stream",
     "text": [
      "반 지름을 입력하시오: 5\n"
     ]
    },
    {
     "name": "stdout",
     "output_type": "stream",
     "text": [
      "원 둘레:31.42\n",
      "원 넓이:78.54\n"
     ]
    }
   ],
   "source": [
    "a = float(input(\"반 지름을 입력하시오:\"))\n",
    "p = 3.141592\n",
    "\n",
    "doole = 2*p*a\n",
    "nulbi = p*(a*a)\n",
    "\n",
    "print(\"원 둘레:%0.2f\"%doole)\n",
    "print(\"원 넓이:%0.2f\"%nulbi)"
   ]
  },
  {
   "cell_type": "markdown",
   "metadata": {},
   "source": [
    "# 문제4 "
   ]
  },
  {
   "cell_type": "code",
   "execution_count": 14,
   "metadata": {},
   "outputs": [
    {
     "name": "stdin",
     "output_type": "stream",
     "text": [
      "한 문장을 입력하시오: Python is fun!\n"
     ]
    },
    {
     "name": "stdout",
     "output_type": "stream",
     "text": [
      "['P', 'y', 't', 'h', 'o', 'n', ' ', 'i', 's', ' ', 'f', 'u', 'n', '!']\n"
     ]
    }
   ],
   "source": [
    "sentence = input(\"한 문장을 입력하시오:\")\n",
    "\n",
    "a = ','\n",
    "list_sen = a.join(sentence)\n",
    "listt = list_sen.split(',')\n",
    "\n",
    "print(listt)"
   ]
  },
  {
   "cell_type": "markdown",
   "metadata": {},
   "source": [
    "# 문제5 "
   ]
  },
  {
   "cell_type": "code",
   "execution_count": 1,
   "metadata": {},
   "outputs": [
    {
     "name": "stdin",
     "output_type": "stream",
     "text": [
      "Enter two integers:  8 5\n"
     ]
    },
    {
     "name": "stdout",
     "output_type": "stream",
     "text": [
      "8 + 5 = 13\n",
      "8 - 5 = 3\n",
      "8 * 5 = 40\n",
      "8 / 5 = 1.6\n",
      "8 % 5 = 3\n"
     ]
    }
   ],
   "source": [
    "numbers = input('Enter two integers: ').split()\n",
    "\n",
    "one, two = numbers\n",
    "\n",
    "one = int(one)\n",
    "two = int(two)\n",
    "\n",
    "print(\"%d + %d = %d\" %(one,two,one+two))\n",
    "print(\"%d - %d = %d\" %(one,two,one-two))\n",
    "print(\"%d * %d = %d\" %(one,two,one*two))\n",
    "print(\"%d / %d = %0.1f\" %(one,two,one/two))\n",
    "print(\"%d %% %d = %d\" %(one,two,one%two))"
   ]
  },
  {
   "cell_type": "markdown",
   "metadata": {},
   "source": [
    "# 문제6"
   ]
  },
  {
   "cell_type": "code",
   "execution_count": 2,
   "metadata": {},
   "outputs": [
    {
     "name": "stdin",
     "output_type": "stream",
     "text": [
      "Enter two integers:  70 91\n"
     ]
    },
    {
     "name": "stdout",
     "output_type": "stream",
     "text": [
      "The sum of 70 and 91 is 161\n",
      "The average of numbers is 80.5\n"
     ]
    }
   ],
   "source": [
    "numbers = input('Enter two integers: ').split()\n",
    "\n",
    "one, two = numbers\n",
    "\n",
    "one = int(one)\n",
    "two = int(two)\n",
    "\n",
    "print(\"The sum of %d and %d is %d\" %(one,two,one+two))\n",
    "print(\"The average of numbers is %0.1f\" %((one+two)/len(numbers)))"
   ]
  },
  {
   "cell_type": "markdown",
   "metadata": {},
   "source": [
    "# 문제7"
   ]
  },
  {
   "cell_type": "code",
   "execution_count": 4,
   "metadata": {},
   "outputs": [
    {
     "name": "stdin",
     "output_type": "stream",
     "text": [
      "날짜(연/월/일)입력:  2019/08/12\n"
     ]
    },
    {
     "name": "stdout",
     "output_type": "stream",
     "text": [
      "입력한 날짜의 10년 후는 2029년 8월 12일\n"
     ]
    }
   ],
   "source": [
    "year,month,day = input('날짜(연/월/일)입력: ').split('/')\n",
    "\n",
    "year = int(year)\n",
    "month = int(month)\n",
    "day = int(day)\n",
    "\n",
    "print(\"입력한 날짜의 10년 후는 %d년 %d월 %d일\"%(year+10, month,day))"
   ]
  }
 ],
 "metadata": {
  "kernelspec": {
   "display_name": "Python 3",
   "language": "python",
   "name": "python3"
  },
  "language_info": {
   "codemirror_mode": {
    "name": "ipython",
    "version": 3
   },
   "file_extension": ".py",
   "mimetype": "text/x-python",
   "name": "python",
   "nbconvert_exporter": "python",
   "pygments_lexer": "ipython3",
   "version": "3.7.3"
  }
 },
 "nbformat": 4,
 "nbformat_minor": 2
}

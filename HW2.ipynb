{
 "cells": [
  {
   "cell_type": "markdown",
   "metadata": {},
   "source": [
    "# 조건문 (if)"
   ]
  },
  {
   "cell_type": "markdown",
   "metadata": {},
   "source": [
    "# 문제1"
   ]
  },
  {
   "cell_type": "code",
   "execution_count": 13,
   "metadata": {},
   "outputs": [
    {
     "name": "stdin",
     "output_type": "stream",
     "text": [
      "Enter a number:  7\n"
     ]
    },
    {
     "name": "stdout",
     "output_type": "stream",
     "text": [
      "7 is Odd number\n"
     ]
    }
   ],
   "source": [
    "number = int(input(\"Enter a number: \"))\n",
    "\n",
    "if number % 2 == 1 :\n",
    "    print(number,\"is Odd number\")\n",
    "else :\n",
    "    print(number,\"is Even number\")"
   ]
  },
  {
   "cell_type": "markdown",
   "metadata": {},
   "source": [
    "# 문제2"
   ]
  },
  {
   "cell_type": "code",
   "execution_count": 9,
   "metadata": {},
   "outputs": [
    {
     "name": "stdin",
     "output_type": "stream",
     "text": [
      "Enter your midterm score: 77\n",
      "Enter your final score: 56\n"
     ]
    },
    {
     "name": "stdout",
     "output_type": "stream",
     "text": [
      "Average: 66.5\n",
      "Grade: D\n"
     ]
    }
   ],
   "source": [
    "mid = int(input(\"Enter your midterm score:\"))\n",
    "final = int(input(\"Enter your final score:\"))\n",
    "average = ((mid+final)/2)\n",
    "            \n",
    "print (\"Average: %0.1f\"%average)\n",
    "if average >= 90 :\n",
    "            print(\"Grade: A\")\n",
    "elif average >= 80 :\n",
    "            print(\"Grade: B\")\n",
    "elif average >= 70 :\n",
    "            print(\"Grade: C\")\n",
    "elif average >= 60 :\n",
    "            print(\"Grade: D\")\n",
    "else:\n",
    "            print('Grade: F')"
   ]
  },
  {
   "cell_type": "markdown",
   "metadata": {},
   "source": [
    "# 문제3"
   ]
  },
  {
   "cell_type": "code",
   "execution_count": 12,
   "metadata": {},
   "outputs": [
    {
     "name": "stdin",
     "output_type": "stream",
     "text": [
      "영어 점수 입력: 35\n",
      "수학 점수 입력: 95\n"
     ]
    },
    {
     "name": "stdout",
     "output_type": "stream",
     "text": [
      "불합격: 영어 점수 부족\n"
     ]
    }
   ],
   "source": [
    "eng = int(input(\"영어 점수 입력:\"))\n",
    "math = int(input(\"수학 점수 입력:\"))\n",
    "sum_score = math + eng\n",
    "\n",
    "if sum_score < 110 :\n",
    "    print (\"불합격: 총합 점수 부족\")\n",
    "\n",
    "elif math < 40 :\n",
    "    print (\"불합격: 수학 점수 부족\")\n",
    "\n",
    "elif eng < 40 :\n",
    "    print (\"불합격: 영어 점수 부족\")\n",
    "\n",
    "else :\n",
    "    print (\"합격\")"
   ]
  },
  {
   "cell_type": "markdown",
   "metadata": {},
   "source": [
    "# 문제4 "
   ]
  },
  {
   "cell_type": "code",
   "execution_count": 17,
   "metadata": {},
   "outputs": [
    {
     "name": "stdin",
     "output_type": "stream",
     "text": [
      "세 개의 수를 입력하시오: 22 50 30\n"
     ]
    },
    {
     "name": "stdout",
     "output_type": "stream",
     "text": [
      "가장 큰 수는 50입니다.\n"
     ]
    }
   ],
   "source": [
    "mapp = input(\"세 개의 수를 입력하시오:\").split()\n",
    "\n",
    "a, b, c = map(int,mapp)\n",
    "\n",
    "\n",
    "if a>b :\n",
    "    if a>c :\n",
    "        print (\"가장 큰 수는 %d입니다.\"%a)\n",
    "    else :\n",
    "        print (\"가장 큰 수는 %d입니다.\"%c)\n",
    "        \n",
    "elif b>a :\n",
    "    if b>c :\n",
    "        print (\"가장 큰 수는 %d입니다.\"%b)\n",
    "    else : \n",
    "        print (\"가장 큰 수는 %d입니다.\"%c)\n",
    "        \n",
    "elif c>a :\n",
    "    if c>b : \n",
    "        print (\"가장 큰 수는 %d입니다.\"%c)\n",
    "    else : \n",
    "        print (\"가장 큰 수는 %d입니다.\"%b)\n"
   ]
  },
  {
   "cell_type": "markdown",
   "metadata": {},
   "source": [
    "# 반복문"
   ]
  },
  {
   "cell_type": "markdown",
   "metadata": {},
   "source": [
    "# 문제1 (1)"
   ]
  },
  {
   "cell_type": "code",
   "execution_count": 1,
   "metadata": {},
   "outputs": [
    {
     "name": "stdout",
     "output_type": "stream",
     "text": [
      "P\n",
      "y\n",
      "t\n",
      "h\n",
      "o\n",
      "n\n"
     ]
    }
   ],
   "source": [
    "word = 'Python'\n",
    "i=0\n",
    "\n",
    "while i < len(word) :\n",
    "    print(word[i])\n",
    "    i += 1"
   ]
  },
  {
   "cell_type": "markdown",
   "metadata": {},
   "source": [
    "# 문제1 (2)"
   ]
  },
  {
   "cell_type": "code",
   "execution_count": 19,
   "metadata": {},
   "outputs": [
    {
     "name": "stdout",
     "output_type": "stream",
     "text": [
      "P\n",
      "y\n",
      "t\n",
      "h\n",
      "o\n",
      "n\n"
     ]
    }
   ],
   "source": [
    "word = 'Python'\n",
    "\n",
    "for i in word :\n",
    "    print(i)"
   ]
  },
  {
   "cell_type": "markdown",
   "metadata": {},
   "source": [
    "# 문제2"
   ]
  },
  {
   "cell_type": "code",
   "execution_count": 5,
   "metadata": {},
   "outputs": [
    {
     "name": "stdout",
     "output_type": "stream",
     "text": [
      "10, 9, 8, 7, 6, 5, 4, 3, 2, 1, Happy new year!!\n"
     ]
    }
   ],
   "source": [
    "for i in range (10,0,-1):\n",
    "    print(i, end=\", \")\n",
    "print (\"Happy new year!!\")"
   ]
  },
  {
   "cell_type": "markdown",
   "metadata": {},
   "source": [
    "# 문제3"
   ]
  },
  {
   "cell_type": "code",
   "execution_count": 9,
   "metadata": {},
   "outputs": [
    {
     "name": "stdin",
     "output_type": "stream",
     "text": [
      "Enter two integers 5 10\n"
     ]
    },
    {
     "name": "stdout",
     "output_type": "stream",
     "text": [
      "the sum from 5 to 10 is 45\n"
     ]
    }
   ],
   "source": [
    "nums = input(\"Enter two integers\").split()\n",
    "a, b = map(int,nums)\n",
    "num = 0\n",
    "\n",
    "if a <=b :\n",
    "    for i in range(a,b+1,1) :\n",
    "        num += i\n",
    "        \n",
    "else :\n",
    "    print (\"error\")\n",
    "    \n",
    "print (\"the sum from %d to %d is %d\"%(a,b,num))"
   ]
  },
  {
   "cell_type": "markdown",
   "metadata": {},
   "source": [
    "# 문제4 "
   ]
  },
  {
   "cell_type": "code",
   "execution_count": 5,
   "metadata": {},
   "outputs": [
    {
     "name": "stdout",
     "output_type": "stream",
     "text": [
      "2\n"
     ]
    }
   ],
   "source": [
    "word = 'banana'\n",
    "num = 0\n",
    "\n",
    "for i in range(len(word)-1) :\n",
    "    if word[i] == 'n' :\n",
    "        num += 1\n",
    "    else :\n",
    "        continue\n",
    "    \n",
    "print(num)"
   ]
  },
  {
   "cell_type": "markdown",
   "metadata": {},
   "source": [
    "# 문제 5"
   ]
  },
  {
   "cell_type": "code",
   "execution_count": 14,
   "metadata": {},
   "outputs": [
    {
     "name": "stdout",
     "output_type": "stream",
     "text": [
      "0 1 2 3 4 5 6 7 8 9 \n",
      "0 5 10 15 20 25 30 35 40 45 50 \n",
      "10 9 8 7 6 5 4 3 2 1 "
     ]
    }
   ],
   "source": [
    "for i in range(0,10,1) :\n",
    "    print(i,end=\" \")\n",
    "    \n",
    "print(\"\")\n",
    "\n",
    "for j in range(0,51,5) :\n",
    "    print(j,end=\" \")\n",
    "\n",
    "print(\"\")  \n",
    "\n",
    "for k in range(10,0,-1) :\n",
    "    print(k,end=\" \")"
   ]
  },
  {
   "cell_type": "markdown",
   "metadata": {},
   "source": [
    "# 문제6 "
   ]
  },
  {
   "cell_type": "code",
   "execution_count": 31,
   "metadata": {},
   "outputs": [
    {
     "name": "stdout",
     "output_type": "stream",
     "text": [
      "red\n",
      "green\n",
      "blue\n"
     ]
    }
   ],
   "source": [
    "colors = [\"red\", \"green\", \"blue\"]\n",
    "\n",
    "for i in colors :\n",
    "    print(i)"
   ]
  },
  {
   "cell_type": "markdown",
   "metadata": {},
   "source": [
    "# 문제7"
   ]
  },
  {
   "cell_type": "code",
   "execution_count": 35,
   "metadata": {},
   "outputs": [
    {
     "name": "stdout",
     "output_type": "stream",
     "text": [
      "4 6 8 10 12 "
     ]
    }
   ],
   "source": [
    "a = [1, 3, 4, 5, 6, 7, 8, 9, 10, 11, 12, 13]\n",
    "     \n",
    "for i in a :\n",
    "    if i % 2 == 0:\n",
    "        print (i, end=\" \")\n",
    "    else :\n",
    "        continue"
   ]
  },
  {
   "cell_type": "markdown",
   "metadata": {},
   "source": [
    "# 문제8"
   ]
  },
  {
   "cell_type": "code",
   "execution_count": 43,
   "metadata": {},
   "outputs": [
    {
     "name": "stdin",
     "output_type": "stream",
     "text": [
      "출력하고 싶은 단을 입력하세요: 7\n"
     ]
    },
    {
     "name": "stdout",
     "output_type": "stream",
     "text": [
      "7 * 1 = 7\n",
      "7 * 2 = 14\n",
      "7 * 3 = 21\n",
      "7 * 4 = 28\n",
      "7 * 5 = 35\n",
      "7 * 6 = 42\n",
      "7 * 7 = 49\n",
      "7 * 8 = 56\n",
      "7 * 9 = 63\n"
     ]
    }
   ],
   "source": [
    "a = int(input(\"출력하고 싶은 단을 입력하세요:\"))\n",
    "\n",
    "for i in range(1, 10) :\n",
    "        print (\"%d * %d = %d\"%(a, i, a*i))\n"
   ]
  },
  {
   "cell_type": "markdown",
   "metadata": {},
   "source": [
    "# 문제9"
   ]
  },
  {
   "cell_type": "code",
   "execution_count": 47,
   "metadata": {},
   "outputs": [
    {
     "name": "stdout",
     "output_type": "stream",
     "text": [
      "==1단==\n",
      "1 * 1 = 1\n",
      "1 * 2 = 2\n",
      "1 * 3 = 3\n",
      "1 * 4 = 4\n",
      "1 * 5 = 5\n",
      "1 * 6 = 6\n",
      "1 * 7 = 7\n",
      "1 * 8 = 8\n",
      "1 * 9 = 9\n",
      "==2단==\n",
      "2 * 1 = 2\n",
      "2 * 2 = 4\n",
      "2 * 3 = 6\n",
      "2 * 4 = 8\n",
      "2 * 5 = 10\n",
      "2 * 6 = 12\n",
      "2 * 7 = 14\n",
      "2 * 8 = 16\n",
      "2 * 9 = 18\n",
      "==3단==\n",
      "3 * 1 = 3\n",
      "3 * 2 = 6\n",
      "3 * 3 = 9\n",
      "3 * 4 = 12\n",
      "3 * 5 = 15\n",
      "3 * 6 = 18\n",
      "3 * 7 = 21\n",
      "3 * 8 = 24\n",
      "3 * 9 = 27\n",
      "==4단==\n",
      "4 * 1 = 4\n",
      "4 * 2 = 8\n",
      "4 * 3 = 12\n",
      "4 * 4 = 16\n",
      "4 * 5 = 20\n",
      "4 * 6 = 24\n",
      "4 * 7 = 28\n",
      "4 * 8 = 32\n",
      "4 * 9 = 36\n",
      "==5단==\n",
      "5 * 1 = 5\n",
      "5 * 2 = 10\n",
      "5 * 3 = 15\n",
      "5 * 4 = 20\n",
      "5 * 5 = 25\n",
      "5 * 6 = 30\n",
      "5 * 7 = 35\n",
      "5 * 8 = 40\n",
      "5 * 9 = 45\n",
      "==6단==\n",
      "6 * 1 = 6\n",
      "6 * 2 = 12\n",
      "6 * 3 = 18\n",
      "6 * 4 = 24\n",
      "6 * 5 = 30\n",
      "6 * 6 = 36\n",
      "6 * 7 = 42\n",
      "6 * 8 = 48\n",
      "6 * 9 = 54\n",
      "==7단==\n",
      "7 * 1 = 7\n",
      "7 * 2 = 14\n",
      "7 * 3 = 21\n",
      "7 * 4 = 28\n",
      "7 * 5 = 35\n",
      "7 * 6 = 42\n",
      "7 * 7 = 49\n",
      "7 * 8 = 56\n",
      "7 * 9 = 63\n",
      "==8단==\n",
      "8 * 1 = 8\n",
      "8 * 2 = 16\n",
      "8 * 3 = 24\n",
      "8 * 4 = 32\n",
      "8 * 5 = 40\n",
      "8 * 6 = 48\n",
      "8 * 7 = 56\n",
      "8 * 8 = 64\n",
      "8 * 9 = 72\n",
      "==9단==\n",
      "9 * 1 = 9\n",
      "9 * 2 = 18\n",
      "9 * 3 = 27\n",
      "9 * 4 = 36\n",
      "9 * 5 = 45\n",
      "9 * 6 = 54\n",
      "9 * 7 = 63\n",
      "9 * 8 = 72\n",
      "9 * 9 = 81\n"
     ]
    }
   ],
   "source": [
    "for i in range(1, 10) :\n",
    "    print (\"==%d단==\"%i)\n",
    "    for j in range (1, 10) :\n",
    "        print (\"%d * %d = %d\"%(i, j, i*j))"
   ]
  },
  {
   "cell_type": "markdown",
   "metadata": {},
   "source": [
    "# 문제10"
   ]
  },
  {
   "cell_type": "code",
   "execution_count": 19,
   "metadata": {},
   "outputs": [
    {
     "name": "stdout",
     "output_type": "stream",
     "text": [
      "2 * 1 =  2 3 * 1 =  3 4 * 1 =  4 5 * 1 =  5 6 * 1 =  6 7 * 1 =  7 8 * 1 =  8 9 * 1 =  9 \n",
      "2 * 2 =  4 3 * 2 =  6 4 * 2 =  8 5 * 2 = 10 6 * 2 = 12 7 * 2 = 14 8 * 2 = 16 9 * 2 = 18 \n",
      "2 * 3 =  6 3 * 3 =  9 4 * 3 = 12 5 * 3 = 15 6 * 3 = 18 7 * 3 = 21 8 * 3 = 24 9 * 3 = 27 \n",
      "2 * 4 =  8 3 * 4 = 12 4 * 4 = 16 5 * 4 = 20 6 * 4 = 24 7 * 4 = 28 8 * 4 = 32 9 * 4 = 36 \n",
      "2 * 5 = 10 3 * 5 = 15 4 * 5 = 20 5 * 5 = 25 6 * 5 = 30 7 * 5 = 35 8 * 5 = 40 9 * 5 = 45 \n",
      "2 * 6 = 12 3 * 6 = 18 4 * 6 = 24 5 * 6 = 30 6 * 6 = 36 7 * 6 = 42 8 * 6 = 48 9 * 6 = 54 \n",
      "2 * 7 = 14 3 * 7 = 21 4 * 7 = 28 5 * 7 = 35 6 * 7 = 42 7 * 7 = 49 8 * 7 = 56 9 * 7 = 63 \n",
      "2 * 8 = 16 3 * 8 = 24 4 * 8 = 32 5 * 8 = 40 6 * 8 = 48 7 * 8 = 56 8 * 8 = 64 9 * 8 = 72 \n",
      "2 * 9 = 18 3 * 9 = 27 4 * 9 = 36 5 * 9 = 45 6 * 9 = 54 7 * 9 = 63 8 * 9 = 72 9 * 9 = 81 \n"
     ]
    }
   ],
   "source": [
    "for i in range(1, 10) :\n",
    "    for j in range (2, 10) :\n",
    "        print (\"%d * %d = %2d\"%(j, i, i*j), end=\" \")\n",
    "    print()"
   ]
  },
  {
   "cell_type": "markdown",
   "metadata": {},
   "source": [
    "# 문제11"
   ]
  },
  {
   "cell_type": "code",
   "execution_count": 49,
   "metadata": {},
   "outputs": [
    {
     "name": "stdout",
     "output_type": "stream",
     "text": [
      "word 1 sally\n",
      "word 2 goes\n",
      "word 3 to\n",
      "word 4 the\n",
      "word 5 store.\n"
     ]
    }
   ],
   "source": [
    "wordlist = []\n",
    "sentence = \"sally goes to the store.\"\n",
    "wordlist = sentence.split()\n",
    "j = 1\n",
    "\n",
    "for i in wordlist :\n",
    "    print(\"word %d %s\"%(j, i))\n",
    "    j += 1"
   ]
  },
  {
   "cell_type": "markdown",
   "metadata": {},
   "source": [
    "# 문제12 "
   ]
  },
  {
   "cell_type": "code",
   "execution_count": 64,
   "metadata": {},
   "outputs": [
    {
     "name": "stdin",
     "output_type": "stream",
     "text": [
      " 3333\n"
     ]
    },
    {
     "name": "stdout",
     "output_type": "stream",
     "text": [
      "★★★\n",
      "★★★\n",
      "★★★\n",
      "★★★\n"
     ]
    }
   ],
   "source": [
    "num = list(map(int,input()))\n",
    "for i in num:\n",
    "    for j in range(i):\n",
    "        print('★',end = '')\n",
    "    print('')"
   ]
  },
  {
   "cell_type": "markdown",
   "metadata": {},
   "source": [
    "# 문제13"
   ]
  },
  {
   "cell_type": "code",
   "execution_count": 9,
   "metadata": {},
   "outputs": [
    {
     "name": "stdin",
     "output_type": "stream",
     "text": [
      "Enter a number: 7\n",
      "Enter a number: 2\n",
      "Enter a number: 9\n",
      "Enter a number: 3\n",
      "Enter a number: 5\n",
      "Enter a number: done\n"
     ]
    },
    {
     "name": "stdout",
     "output_type": "stream",
     "text": [
      "\n",
      " [7.0, 2.0, 9.0, 3.0, 5.0]\n",
      "Average: 5.2\n",
      "Maximum: 9.0\n",
      "Minimum: 2.0\n"
     ]
    }
   ],
   "source": [
    "numlist = []\n",
    "\n",
    "while True :\n",
    "    a = input(\"Enter a number:\")\n",
    "    if a ==\"done\":\n",
    "        break\n",
    "    else :\n",
    "        numlist.append(float(a))\n",
    "    \n",
    "print (numlist)\n",
    "print (\"Average: %0.1f\"%(sum(numlist)/int(len(numlist))))\n",
    "print (\"Maximum: %0.1f\"%max(numlist))\n",
    "print (\"Minimum: %0.1f\"%min(numlist))"
   ]
  },
  {
   "cell_type": "code",
   "execution_count": null,
   "metadata": {},
   "outputs": [],
   "source": []
  }
 ],
 "metadata": {
  "kernelspec": {
   "display_name": "Python 3",
   "language": "python",
   "name": "python3"
  },
  "language_info": {
   "codemirror_mode": {
    "name": "ipython",
    "version": 3
   },
   "file_extension": ".py",
   "mimetype": "text/x-python",
   "name": "python",
   "nbconvert_exporter": "python",
   "pygments_lexer": "ipython3",
   "version": "3.7.3"
  }
 },
 "nbformat": 4,
 "nbformat_minor": 2
}

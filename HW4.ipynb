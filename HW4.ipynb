{
 "cells": [
  {
   "cell_type": "markdown",
   "metadata": {},
   "source": [
    "# 과제 (add_comma)"
   ]
  },
  {
   "cell_type": "code",
   "execution_count": 1,
   "metadata": {},
   "outputs": [
    {
     "name": "stdout",
     "output_type": "stream",
     "text": [
      "1,234\n",
      "12,345,678\n",
      "12\n"
     ]
    }
   ],
   "source": [
    "def add_comma(val) :\n",
    "    num = []\n",
    "    val = str(val)\n",
    "    space = len(val) % 3        \n",
    "    num.append(val[0:space])\n",
    "    if len(val) > 3 :\n",
    "        for i in range(space, len(val),3):\n",
    "            num.append(val[i:i+3])\n",
    "            \n",
    "    a = ','\n",
    "    b = a.join(num)\n",
    "    return b\n",
    "    \n",
    "def main():\n",
    "    comma_added_1234 = add_comma(1234)\n",
    "    comma_added_12345678 = add_comma(12345678)\n",
    "    comma_added_12 = add_comma(12)\n",
    "    \n",
    "    print(comma_added_1234)\n",
    "    print(comma_added_12345678)\n",
    "    print(comma_added_12)\n",
    "    \n",
    "if __name__ == '__main__' :\n",
    "    main()"
   ]
  },
  {
   "cell_type": "markdown",
   "metadata": {},
   "source": [
    "# 과제 (tok.py)"
   ]
  },
  {
   "cell_type": "code",
   "execution_count": 10,
   "metadata": {},
   "outputs": [
    {
     "name": "stdout",
     "output_type": "stream",
     "text": [
      "['There', 'was', 'a', 'farmer', 'who', 'had', 'a', 'dog', '.']\n",
      "['There was a', 'was a farmer', 'a farmer who', 'farmer who had', 'who had a', 'had a dog', 'a dog .']\n"
     ]
    }
   ],
   "source": [
    "def tokenize(trg, N=1):\n",
    "    st = []\n",
    "    st_cal = []\n",
    "    st = trg.split()\n",
    "    a = \" \"\n",
    "    ss = \"\"\n",
    "    \n",
    "    for i in range(0, len(st)-N+1) :\n",
    "        for j in range(i, i+N) :\n",
    "            if j == i+N-1:\n",
    "                ss += st[j]\n",
    "            else:\n",
    "                ss += (st[j] + \" \")\n",
    "        st_cal.append(ss)\n",
    "        ss = \"\"\n",
    "        \n",
    "    return st_cal\n",
    "    \n",
    "def main():\n",
    "    a = \"There was a farmer who had a dog .\"\n",
    "    print(tokenize(a))\n",
    "    print(tokenize(a, 3))\n",
    "    \n",
    "if __name__ == '__main__' :\n",
    "    main()"
   ]
  },
  {
   "cell_type": "markdown",
   "metadata": {},
   "source": [
    "# 과제 (mean_and_var)"
   ]
  },
  {
   "cell_type": "code",
   "execution_count": 11,
   "metadata": {},
   "outputs": [
    {
     "name": "stdout",
     "output_type": "stream",
     "text": [
      "평균:  (0.5, 0.5) 분산:  (0.167, 0.167)\n"
     ]
    }
   ],
   "source": [
    "def mean_and_var(*val):\n",
    "    r = []\n",
    "    for i in zip(*val):\n",
    "        average = sum(i) / len(i)\n",
    "        var = sum([(j-average) ** 2 for j in i]) / len(i)\n",
    "        r.append((average, round(var, 3)))\n",
    "    return list(zip(*r))\n",
    "        \n",
    "def main():\n",
    "    v1=(0,1)\n",
    "    v2=(0.5, 0.5)\n",
    "    v3=(1, 0)\n",
    "    m, var = mean_and_var(v1, v2, v3)\n",
    "    print('평균: ', m, '분산: ', var)\n",
    "    \n",
    "if __name__ == '__main__' :\n",
    "    main()"
   ]
  }
 ],
 "metadata": {
  "kernelspec": {
   "display_name": "Python 3",
   "language": "python",
   "name": "python3"
  },
  "language_info": {
   "codemirror_mode": {
    "name": "ipython",
    "version": 3
   },
   "file_extension": ".py",
   "mimetype": "text/x-python",
   "name": "python",
   "nbconvert_exporter": "python",
   "pygments_lexer": "ipython3",
   "version": "3.7.3"
  }
 },
 "nbformat": 4,
 "nbformat_minor": 2
}

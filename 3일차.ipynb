{
 "cells": [
  {
   "cell_type": "code",
   "execution_count": 10,
   "metadata": {},
   "outputs": [
    {
     "name": "stdout",
     "output_type": "stream",
     "text": [
      "-f\n",
      "/run/user/1000/jupyter/kernel-f422f7dd-8473-493b-b6c6-15ba6e50e299.json\n"
     ]
    },
    {
     "data": {
      "text/plain": [
       "'\\nf =  open(\"test.txt\", \"r\")\\ng =  open(\"test2.txt\", \"w\")\\n\\nfor line in f :\\n    g.write(line)\\n\\ng.close()\\nf.close()\\n'"
      ]
     },
     "execution_count": 10,
     "metadata": {},
     "output_type": "execute_result"
    }
   ],
   "source": [
    "\n",
    "import sys\n",
    "\n",
    "args =sys.argv[1:] # 리스트 형태로\n",
    "\n",
    "for i in args:\n",
    "    print (i)\n",
    "\n",
    "'''\n",
    "f =  open(\"test.txt\", \"r\")\n",
    "g =  open(\"test2.txt\", \"w\")\n",
    "\n",
    "for line in f :\n",
    "    g.write(line)\n",
    "\n",
    "g.close()\n",
    "f.close()\n",
    "'''"
   ]
  },
  {
   "cell_type": "code",
   "execution_count": 11,
   "metadata": {},
   "outputs": [],
   "source": [
    "gildong = [201801, 84, 73]"
   ]
  },
  {
   "cell_type": "code",
   "execution_count": 12,
   "metadata": {},
   "outputs": [
    {
     "data": {
      "text/plain": [
       "[201801, 84, 73]"
      ]
     },
     "execution_count": 12,
     "metadata": {},
     "output_type": "execute_result"
    }
   ],
   "source": [
    "gildong"
   ]
  },
  {
   "cell_type": "code",
   "execution_count": null,
   "metadata": {},
   "outputs": [],
   "source": [
    "\n",
    "\n",
    "f =  open(\"test.txt\", \"r\")"
   ]
  }
 ],
 "metadata": {
  "kernelspec": {
   "display_name": "Python 3",
   "language": "python",
   "name": "python3"
  },
  "language_info": {
   "codemirror_mode": {
    "name": "ipython",
    "version": 3
   },
   "file_extension": ".py",
   "mimetype": "text/x-python",
   "name": "python",
   "nbconvert_exporter": "python",
   "pygments_lexer": "ipython3",
   "version": "3.7.3"
  }
 },
 "nbformat": 4,
 "nbformat_minor": 2
}

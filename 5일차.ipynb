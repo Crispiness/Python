{
 "cells": [
  {
   "cell_type": "markdown",
   "metadata": {},
   "source": [
    "# 윤은영 교수님 강의"
   ]
  },
  {
   "cell_type": "code",
   "execution_count": 1,
   "metadata": {},
   "outputs": [
    {
     "name": "stdout",
     "output_type": "stream",
     "text": [
      "dog1:멍멍!\n",
      "dog2:멍멍!\n",
      "cat1:야옹!\n"
     ]
    }
   ],
   "source": [
    "class Animal :\n",
    "    def __init__(self, name):\n",
    "        self.name = name\n",
    "    def speak (self) :\n",
    "        return '알 수 없음'\n",
    "    \n",
    "class Dog(Animal):\n",
    "    def speak(self) :\n",
    "        return '멍멍!'\n",
    "    \n",
    "class Cat(Animal):\n",
    "    def speak(self) :\n",
    "        return '야옹!'\n",
    "    \n",
    "animalList = [Dog('dog1'),\n",
    "             Dog('dog2'),\n",
    "             Cat('cat1')]\n",
    "\n",
    "for a in animalList :\n",
    "    print (a.name + ':' + a.speak())\n",
    "    "
   ]
  },
  {
   "cell_type": "code",
   "execution_count": null,
   "metadata": {},
   "outputs": [],
   "source": []
  }
 ],
 "metadata": {
  "kernelspec": {
   "display_name": "Python 3",
   "language": "python",
   "name": "python3"
  },
  "language_info": {
   "codemirror_mode": {
    "name": "ipython",
    "version": 3
   },
   "file_extension": ".py",
   "mimetype": "text/x-python",
   "name": "python",
   "nbconvert_exporter": "python",
   "pygments_lexer": "ipython3",
   "version": "3.7.3"
  }
 },
 "nbformat": 4,
 "nbformat_minor": 2
}

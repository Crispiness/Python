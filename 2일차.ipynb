{
 "cells": [
  {
   "cell_type": "code",
   "execution_count": 5,
   "metadata": {},
   "outputs": [
    {
     "name": "stdin",
     "output_type": "stream",
     "text": [
      "Enter a sentence:  Python is fun!\n"
     ]
    },
    {
     "name": "stdout",
     "output_type": "stream",
     "text": [
      "{'P': 1, 'y': 1, 't': 1, 'h': 1, 'o': 1, 'n': 2, ' ': 2, 'i': 1, 's': 1, 'f': 1, 'u': 1, '!': 1}\n"
     ]
    }
   ],
   "source": [
    "numberlist = list(input(\"Enter a sentence: \"))\n",
    "dict1 = {}\n",
    "\n",
    "for i in numberlist :\n",
    "    dict1[i] = numberlist.count(i)\n",
    "    \n",
    "print(dict1)"
   ]
  },
  {
   "cell_type": "code",
   "execution_count": 11,
   "metadata": {},
   "outputs": [
    {
     "name": "stdout",
     "output_type": "stream",
     "text": [
      "1 2 10 "
     ]
    }
   ],
   "source": [
    "d = {'youn':1, 'park':2, 'kim':10}\n",
    "\n",
    "for i in d.values():\n",
    "    print(i, end=(\" \"))"
   ]
  },
  {
   "cell_type": "code",
   "execution_count": 12,
   "metadata": {},
   "outputs": [
    {
     "name": "stdout",
     "output_type": "stream",
     "text": [
      "1\n",
      "2\n",
      "10\n"
     ]
    }
   ],
   "source": [
    "for key in d:\n",
    "    print(d[key])"
   ]
  },
  {
   "cell_type": "code",
   "execution_count": 17,
   "metadata": {},
   "outputs": [
    {
     "name": "stdout",
     "output_type": "stream",
     "text": [
      "1\n",
      "2\n",
      "10\n"
     ]
    }
   ],
   "source": [
    "for key, value in d.items():\n",
    "    print(value)"
   ]
  },
  {
   "cell_type": "code",
   "execution_count": 20,
   "metadata": {},
   "outputs": [],
   "source": [
    "f =  open(\"new.txt\", \"w\")\n",
    "\n",
    "for i in range (1,6):\n",
    "    data = \"%d line\\n\" %i\n",
    "    f.write(data)\n",
    "\n",
    "f.close()"
   ]
  },
  {
   "cell_type": "code",
   "execution_count": 22,
   "metadata": {},
   "outputs": [
    {
     "name": "stdout",
     "output_type": "stream",
     "text": [
      "1 line\n",
      "2 line\n"
     ]
    }
   ],
   "source": [
    "f =  open(\"new.txt\", \"r\")\n",
    "\n",
    "line = f.readline()\n",
    "print(line, end=\"\")\n",
    "line = f.readline()\n",
    "print(line, end=\"\")\n",
    "f.close()"
   ]
  },
  {
   "cell_type": "code",
   "execution_count": 25,
   "metadata": {},
   "outputs": [
    {
     "name": "stdout",
     "output_type": "stream",
     "text": [
      "['1 line\\n', '2 line\\n', '3 line\\n', '4 line\\n', '5 line\\n']\n"
     ]
    }
   ],
   "source": [
    "f =  open(\"new.txt\", \"r\")\n",
    "\n",
    "lines = f.readlines()\n",
    "print(lines)\n",
    "f.close()"
   ]
  },
  {
   "cell_type": "code",
   "execution_count": 26,
   "metadata": {},
   "outputs": [
    {
     "name": "stdout",
     "output_type": "stream",
     "text": [
      "1 line\n",
      "2 line\n",
      "3 line\n",
      "4 line\n",
      "5 line\n",
      "\n"
     ]
    }
   ],
   "source": [
    "f =  open(\"new.txt\", \"r\")\n",
    "\n",
    "line = f.read()\n",
    "print(line)\n",
    "f.close()"
   ]
  },
  {
   "cell_type": "code",
   "execution_count": 29,
   "metadata": {},
   "outputs": [
    {
     "name": "stdout",
     "output_type": "stream",
     "text": [
      "1 line\n",
      "2 line\n",
      "3 line\n",
      "4 line\n",
      "5 line\n"
     ]
    }
   ],
   "source": [
    "f =  open(\"new.txt\", \"r\")\n",
    "\n",
    "for line in f :\n",
    "    print (line, end=\"\")\n",
    "f.close()"
   ]
  },
  {
   "cell_type": "code",
   "execution_count": 31,
   "metadata": {},
   "outputs": [],
   "source": [
    "f =  open(\"test.txt\", \"w\")\n",
    "\n",
    "list = ['first','second','third']\n",
    "\n",
    "for i in list:\n",
    "    data = \"%s line\\n\" %i\n",
    "    f.write(data)\n",
    "\n",
    "f.close()"
   ]
  },
  {
   "cell_type": "code",
   "execution_count": 64,
   "metadata": {},
   "outputs": [
    {
     "name": "stdout",
     "output_type": "stream",
     "text": [
      "first 1\n",
      "line 3\n",
      "second 1\n",
      "third 1\n"
     ]
    }
   ],
   "source": [
    "f =  open(\"test.txt\", \"r\")\n",
    "\n",
    "data = f.read().split()\n",
    "test = {}\n",
    "\n",
    "for var in data:\n",
    "    if var in test:\n",
    "        test[var] = test[var] + 1\n",
    "    else:\n",
    "        test[var] = 1\n",
    "\n",
    "for key, value in test.items():\n",
    "    print(key, value)\n",
    "\n",
    "    \n",
    "f.close()"
   ]
  },
  {
   "cell_type": "code",
   "execution_count": 58,
   "metadata": {},
   "outputs": [
    {
     "name": "stdout",
     "output_type": "stream",
     "text": [
      "[['first', 'line\\n'], ['second', 'line\\n'], ['third', 'line\\n']]\n"
     ]
    }
   ],
   "source": [
    "f =  open(\"test.txt\", \"r\")\n",
    "dictt={}\n",
    "\n",
    "for i in f :\n",
    "    dic_list.append(i.split(\" \"))\n",
    "\n",
    "print(dic_list)\n",
    "\n",
    "f.close()"
   ]
  },
  {
   "cell_type": "code",
   "execution_count": 57,
   "metadata": {},
   "outputs": [],
   "source": [
    "dic_list = []"
   ]
  },
  {
   "cell_type": "markdown",
   "metadata": {},
   "source": [
    "# 윤은영 교수님 강의"
   ]
  },
  {
   "cell_type": "code",
   "execution_count": 86,
   "metadata": {},
   "outputs": [
    {
     "name": "stdin",
     "output_type": "stream",
     "text": [
      "연도를 입력하세요: 2020\n"
     ]
    },
    {
     "name": "stdout",
     "output_type": "stream",
     "text": [
      "2020년은 윤년입니다.\n"
     ]
    }
   ],
   "source": [
    "year = 0\n",
    "\n",
    "year = int(input(\"연도를 입력하세요:\"))\n",
    "\n",
    "if ((year % 4 == 0) and (year % 100 != 0)) or (year % 400 == 0) :\n",
    "    print (\"%d년은 윤년입니다.\"%year)\n",
    "    \n",
    "else :\n",
    "    print(\"%d년은 윤년이 아닙니다.\"%year)"
   ]
  },
  {
   "cell_type": "code",
   "execution_count": 102,
   "metadata": {},
   "outputs": [
    {
     "name": "stdout",
     "output_type": "stream",
     "text": [
      "140578105157472\n",
      "140578105157552\n"
     ]
    }
   ],
   "source": [
    "a = 11209323423423423423423423810938 ; print(id(a))\n",
    "b = 1120938123423423423420938 ; print(id(b))"
   ]
  },
  {
   "cell_type": "markdown",
   "metadata": {},
   "source": [
    "# 함수와 모듈"
   ]
  },
  {
   "cell_type": "code",
   "execution_count": 128,
   "metadata": {},
   "outputs": [
    {
     "name": "stdout",
     "output_type": "stream",
     "text": [
      "6 11\n",
      "6 11\n"
     ]
    }
   ],
   "source": [
    "def my_len(i) :\n",
    "    value = 0\n",
    "    \n",
    "    for _ in i :\n",
    "        value += 1\n",
    "\n",
    "    return value\n",
    "\n",
    "a= [5,5,6,7,8,3]\n",
    "b= 'I am a boy.'\n",
    "\n",
    "print (len(a),len(b))\n",
    "print (my_len(a),my_len(b))"
   ]
  },
  {
   "cell_type": "code",
   "execution_count": 130,
   "metadata": {},
   "outputs": [
    {
     "name": "stdout",
     "output_type": "stream",
     "text": [
      "3 -1 2 0\n"
     ]
    }
   ],
   "source": [
    "def add(a,b) :\n",
    "    value = 0\n",
    "    value = a+b\n",
    "    return value\n",
    "\n",
    "def sub(a,b) :\n",
    "    value = 0\n",
    "    value = a-b\n",
    "    return value\n",
    "\n",
    "def mul(a,b) :\n",
    "    value = 0\n",
    "    value = a*b\n",
    "    return value\n",
    "\n",
    "def div(a,b) :\n",
    "    value = 0\n",
    "    value = int(a/b)\n",
    "    return value\n",
    "\n",
    "a=1\n",
    "b=2\n",
    "c = add(a,b)\n",
    "d = sub(a,b)\n",
    "e = mul(a,b)\n",
    "f = div(a,b)\n",
    "\n",
    "print(c,d,e,f)"
   ]
  },
  {
   "cell_type": "code",
   "execution_count": 134,
   "metadata": {},
   "outputs": [
    {
     "data": {
      "text/plain": [
       "40320"
      ]
     },
     "execution_count": 134,
     "metadata": {},
     "output_type": "execute_result"
    }
   ],
   "source": [
    "def factorial(n):\n",
    "    value = 1\n",
    "    for i in range (1,n+1,1):\n",
    "        value *= i\n",
    "    return value\n",
    "\n",
    "factorial(8)"
   ]
  },
  {
   "cell_type": "code",
   "execution_count": 138,
   "metadata": {},
   "outputs": [
    {
     "name": "stdout",
     "output_type": "stream",
     "text": [
      "125\n",
      "16\n",
      "16\n"
     ]
    }
   ],
   "source": [
    "def pow(n,a):\n",
    "    value = n**a\n",
    "    return value\n",
    "\n",
    "print(pow(5,3))\n",
    "print(pow(4,2))\n",
    "print(pow(2,4))"
   ]
  },
  {
   "cell_type": "code",
   "execution_count": null,
   "metadata": {},
   "outputs": [],
   "source": []
  }
 ],
 "metadata": {
  "kernelspec": {
   "display_name": "Python 3",
   "language": "python",
   "name": "python3"
  },
  "language_info": {
   "codemirror_mode": {
    "name": "ipython",
    "version": 3
   },
   "file_extension": ".py",
   "mimetype": "text/x-python",
   "name": "python",
   "nbconvert_exporter": "python",
   "pygments_lexer": "ipython3",
   "version": "3.7.3"
  }
 },
 "nbformat": 4,
 "nbformat_minor": 2
}

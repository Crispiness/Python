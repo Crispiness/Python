{
 "cells": [
  {
   "cell_type": "markdown",
   "metadata": {},
   "source": [
    "# 과제 1 - Set.py"
   ]
  },
  {
   "cell_type": "code",
   "execution_count": 1,
   "metadata": {},
   "outputs": [
    {
     "name": "stdout",
     "output_type": "stream",
     "text": [
      "[1, 2, 3, 4]\n",
      "[1]\n",
      "[2, 3]\n"
     ]
    }
   ],
   "source": [
    "class Set :\n",
    "    def __init__(self, member = []):\n",
    "        self.member = member.copy()\n",
    "        re_member = []\n",
    "        for a in member:\n",
    "            if re_member.count(a) < 1:\n",
    "                re_member.append(a)\n",
    "                \n",
    "            else:\n",
    "                pass\n",
    "        self.member = re_member\n",
    "\n",
    "    def __repr__(self):\n",
    "        return str(self.member)\n",
    "    \n",
    "    def append(self, a) :\n",
    "        self.member = self.member + [a]\n",
    "    \n",
    "    def delete(self, a) :\n",
    "        i = 0\n",
    "        while i<len(self.member)+1 :\n",
    "            if self.member[i] == a :\n",
    "                del(self.member[i])\n",
    "                break\n",
    "            i += 1\n",
    "            \n",
    "        else:\n",
    "            pass\n",
    "        \n",
    "        val = self.member.copy()\n",
    "    \n",
    "        return val\n",
    "        \n",
    "    def union(self, s2) :\n",
    "        new_value = self.member.copy()\n",
    "        \n",
    "        for j in range (len(s2.member)):\n",
    "            if self.member.count(s2.member[j]) < 1:\n",
    "                new_value.append(s2.member[j])\n",
    "            else :\n",
    "                pass\n",
    "            \n",
    "        new_value = sorted(new_value)\n",
    "        \n",
    "        return new_value\n",
    "\n",
    "    def intersection(self, s2) :\n",
    "        new_value = []\n",
    "        \n",
    "        for i in self.member:\n",
    "            for j in s2.member:\n",
    "                if i == j :\n",
    "                    if new_value.count(i) < 1:\n",
    "                        new_value.append(i)\n",
    "                else :\n",
    "                    pass\n",
    "                    \n",
    "        nnew_value =  sorted(new_value)\n",
    "        \n",
    "        return nnew_value        \n",
    "    \n",
    "    def difference(self, s2) :\n",
    "        new_val = self.member.copy()\n",
    "        for i in self.intersection(s2):\n",
    "            if i in new_val :\n",
    "                new_val.remove(i)\n",
    "                \n",
    "        return new_val\n",
    "    \n",
    "    def __add__(self,another):\n",
    "        new = self.union(another)\n",
    "        return new\n",
    "    \n",
    "    def __sub__(self,another):\n",
    "        new = self.difference(another)\n",
    "        return new\n",
    "    \n",
    "    def __truediv__(self,another):\n",
    "        new = self.intersection(another)\n",
    "        return new\n",
    "        \n",
    "a = Set([1,2,3])\n",
    "b = Set([2,3,4])\n",
    "\n",
    "c = a.union(b)\n",
    "print(c)\n",
    "\n",
    "d = a.difference(b)\n",
    "print(d)\n",
    "\n",
    "e = a.intersection(b)\n",
    "print(e)"
   ]
  },
  {
   "cell_type": "code",
   "execution_count": 2,
   "metadata": {},
   "outputs": [
    {
     "name": "stdout",
     "output_type": "stream",
     "text": [
      "[1, 2, 3, 4]\n",
      "[1]\n",
      "[2, 3]\n"
     ]
    }
   ],
   "source": [
    "c = a+b\n",
    "print(c)\n",
    "d = a-b\n",
    "print(d)\n",
    "e = a/b\n",
    "print(e)"
   ]
  },
  {
   "cell_type": "code",
   "execution_count": 3,
   "metadata": {},
   "outputs": [],
   "source": [
    "a = Set([1,2,3])"
   ]
  },
  {
   "cell_type": "code",
   "execution_count": 5,
   "metadata": {},
   "outputs": [
    {
     "data": {
      "text/plain": [
       "[1, 2, 3]"
      ]
     },
     "execution_count": 5,
     "metadata": {},
     "output_type": "execute_result"
    }
   ],
   "source": [
    "a.member"
   ]
  },
  {
   "cell_type": "markdown",
   "metadata": {},
   "source": [
    "# 과제 2 - People.py"
   ]
  },
  {
   "cell_type": "code",
   "execution_count": 3,
   "metadata": {},
   "outputs": [
    {
     "name": "stdout",
     "output_type": "stream",
     "text": [
      "제 이름은 Kim, 나이는 30, 학과는 Computer, 지도교수님은 Lee 입니다.\n",
      "제 이름은 Lee, 나이는 22, 학과는 Computer, 지도교수님은 Lee 입니다.\n",
      "제 이름은 Lee, 나이는 55, 학과는 Computer, 지도학생은 Kim, Lee 입니다.\n"
     ]
    }
   ],
   "source": [
    "class Person :\n",
    "    def __init__(self, name='',age=0,department=''):\n",
    "        self.name = name\n",
    "        self.age = age\n",
    "        self.department = department\n",
    "        \n",
    "    def get_name(self, name) :\n",
    "        self.name = name\n",
    "        return self.name\n",
    "        \n",
    "        \n",
    "class Student(Person) :\n",
    "    def __init__(self, name='', age=0, department='', ID=0, GPA=0.0, advisor=\"\") :\n",
    "        Person.__init__(self, name=name, age=age, department=department)\n",
    "        self.ID = ID\n",
    "        self.GPA = GPA\n",
    "        self.advisor = advisor\n",
    "        \n",
    "    def reg_advisor(self, prof):\n",
    "        self.advisor = prof.name\n",
    "    \n",
    "    def print_info(self) :\n",
    "        print(\"제 이름은 %s, 나이는 %d, 학과는 %s, 지도교수님은 %s 입니다.\" \n",
    "              %(self.name, self.age, self.department, self.advisor))\n",
    "\n",
    "class Professor(Person) :\n",
    "    def __init__(self, name='', age=0, department='', position='', laboratory='', student=[]):\n",
    "        Person.__init__(self, name=name, age=age, department=department)\n",
    "        self.position = position\n",
    "        self.laboratory = laboratory\n",
    "        self.student = student\n",
    "        \n",
    "    def reg_student(self, stu) :\n",
    "        self.student += [stu.name]\n",
    "    \n",
    "    def print_info(self) :\n",
    "        a = ', '\n",
    "        print(\"제 이름은 %s, 나이는 %d, 학과는 %s, 지도학생은\"%(self.name, self.age, self.department),a.join(self.student), \"입니다.\" )\n",
    "        \n",
    "stu1 = Student('Kim', 30, 'Computer',20001234, 4.5)\n",
    "stu2 = Student('Lee', 22, 'Computer',20101234, 0.5)\n",
    "prof1 = Professor('Lee', 55, 'Computer','Full', 'KLE')\n",
    "\n",
    "stu1.reg_advisor(prof1)\n",
    "stu2.reg_advisor(prof1)\n",
    "prof1.reg_student(stu1)\n",
    "prof1.reg_student(stu2)\n",
    "\n",
    "stu1.print_info()\n",
    "stu2.print_info()\n",
    "prof1.print_info()"
   ]
  },
  {
   "cell_type": "markdown",
   "metadata": {},
   "source": [
    "# 과제 3 - and_op.py"
   ]
  },
  {
   "cell_type": "code",
   "execution_count": 109,
   "metadata": {},
   "outputs": [
    {
     "name": "stdout",
     "output_type": "stream",
     "text": [
      "0\n",
      "0\n",
      "0\n",
      "1\n"
     ]
    }
   ],
   "source": [
    "import numpy as np\n",
    "\n",
    "x1 = np.array([0,0])\n",
    "x2 = np.array([0,1])\n",
    "x3 = np.array([1,0])\n",
    "x4 = np.array([1,1])\n",
    "\n",
    "def f(x) :\n",
    "    w = np.array([[8,8],[9,9]])\n",
    "    b = np.array([1,0])\n",
    "    c = np.dot(w, x) + b\n",
    "    return np.argmax(c)\n",
    "\n",
    "print(f(x1))\n",
    "print(f(x2))\n",
    "print(f(x3))\n",
    "print(f(x4))"
   ]
  },
  {
   "cell_type": "code",
   "execution_count": 108,
   "metadata": {},
   "outputs": [
    {
     "name": "stdout",
     "output_type": "stream",
     "text": [
      "8\n",
      "8\n",
      "9\n",
      "9\n",
      "1\n",
      "0\n"
     ]
    }
   ],
   "source": [
    "a1 = 0\n",
    "a2 = 0 \n",
    "a3 = 0\n",
    "a4 = 0\n",
    "a5 = 0\n",
    "a6 = 0\n",
    "x1 = np.array([0,0])\n",
    "x2 = np.array([0,1])\n",
    "x3 = np.array([1,0])\n",
    "x4 = np.array([1,1])\n",
    "\n",
    "for i in range(10):\n",
    "    for j in range(10):\n",
    "        for k in range(10):\n",
    "            for l in range(10):\n",
    "                for o in range(10):\n",
    "                    for p in range(10):\n",
    "                        w = np.array([[i,j],[k,l]])\n",
    "                        b = np.array([o,p])\n",
    "                        c1 = np.dot(w, x1) + b\n",
    "                        c2 = np.dot(w, x2) + b\n",
    "                        c3 = np.dot(w, x3) + b\n",
    "                        c4 = np.dot(w, x4) + b\n",
    "                        if np.argmax(c1) == 0 and np.argmax(c2) == 0 and np.argmax(c3) == 0 and np.argmax(c4) == 1 :\n",
    "                            a1 = i\n",
    "                            a2 = j\n",
    "                            a3 = k\n",
    "                            a4 = l\n",
    "                            a5 = o\n",
    "                            a6 = p\n",
    "                        break\n",
    "                        \n",
    "print(a1)\n",
    "print(a2)\n",
    "print(a3)\n",
    "print(a4)\n",
    "print(a5)\n",
    "print(a6)"
   ]
  }
 ],
 "metadata": {
  "kernelspec": {
   "display_name": "Python 3",
   "language": "python",
   "name": "python3"
  },
  "language_info": {
   "codemirror_mode": {
    "name": "ipython",
    "version": 3
   },
   "file_extension": ".py",
   "mimetype": "text/x-python",
   "name": "python",
   "nbconvert_exporter": "python",
   "pygments_lexer": "ipython3",
   "version": "3.7.3"
  }
 },
 "nbformat": 4,
 "nbformat_minor": 2
}

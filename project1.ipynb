{
 "cells": [
  {
   "cell_type": "markdown",
   "metadata": {},
   "source": [
    "# 파일 열기 함수"
   ]
  },
  {
   "cell_type": "code",
   "execution_count": 391,
   "metadata": {},
   "outputs": [
    {
     "name": "stdin",
     "output_type": "stream",
     "text": [
      " \n"
     ]
    },
    {
     "name": "stdout",
     "output_type": "stream",
     "text": [
      "20180001\tHong Gildong\t84\t73\n",
      "20180002\tLee Jieun\t92\t89\n",
      "20180007\tKim Cheolsu\t57\t62\n",
      "20180009\tLee Yeonghee\t81\t84\n",
      "20180011\tHa Donghun\t58\t68\n",
      "\n"
     ]
    }
   ],
   "source": []
  },
  {
   "cell_type": "code",
   "execution_count": 419,
   "metadata": {},
   "outputs": [],
   "source": []
  },
  {
   "cell_type": "code",
   "execution_count": 420,
   "metadata": {},
   "outputs": [
    {
     "data": {
      "text/plain": [
       "[['20180002', 'Lee Jieun', '92', '89', 90.5, 'A'],\n",
       " ['20180009', 'Lee Yeonghee', '81', '84', 82.5, 'B'],\n",
       " ['20180001', 'Hong Gildong', '84', '73', 78.5, 'C'],\n",
       " ['20180011', 'Ha Donghun', '58', '68', 63.0, 'D'],\n",
       " ['20180007', 'Kim Cheolsu', '57', '62', 59.5, 'F']]"
      ]
     },
     "execution_count": 420,
     "metadata": {},
     "output_type": "execute_result"
    }
   ],
   "source": []
  },
  {
   "cell_type": "code",
   "execution_count": 421,
   "metadata": {},
   "outputs": [],
   "source": [
    "def formats(lists) :\n",
    "    row_labels = ['Student','Name','Midterm','Final','Average','Grade'] \n",
    "    print(\" {0:9} {1:>15}   {2:^7}   {3:^5}   {4:^7}   {5:^4}\".format(*row_labels))\n",
    "    print(\"-\"*62)\n",
    "    for i in range(0,len(lists)):\n",
    "        print(\"{0:<9}  {1:>15}    {2:^7}   {3:^5}   {4:^7.1f}   {5:^4}\"\n",
    "              .format(lists[i][0],lists[i][1],\n",
    "                      lists[i][2],lists[i][3],\n",
    "                      lists[i][4],lists[i][5]))"
   ]
  },
  {
   "cell_type": "code",
   "execution_count": 422,
   "metadata": {},
   "outputs": [],
   "source": [
    "def score_cal(lists) :\n",
    "    for i in range (0, len(lists)) :\n",
    "        lists[i][4] = ((int(lists[i][2]) + int(lists[i][3]))/2)\n",
    "        if lists[i][4] >= 90:\n",
    "            lists[i][5] = \"A\"\n",
    "\n",
    "        elif lists[i][4] >= 80:\n",
    "            lists[i][5] = \"B\"\n",
    "\n",
    "        elif lists[i][4] >= 70:\n",
    "            lists[i][5] = \"C\"\n",
    "\n",
    "        elif lists[i][4] >= 60:\n",
    "            lists[i][5] = \"D\"\n",
    "\n",
    "        else :\n",
    "            lists[i][5] = \"F\""
   ]
  },
  {
   "cell_type": "code",
   "execution_count": 423,
   "metadata": {},
   "outputs": [],
   "source": [
    "def SHOW(lists) :\n",
    "    lists.sort(key=lambda e:e[4], reverse = True)\n",
    "    return formats(lists)"
   ]
  },
  {
   "cell_type": "code",
   "execution_count": 424,
   "metadata": {},
   "outputs": [],
   "source": [
    "def SEARCH() :\n",
    "    stu_id = input(\"Student ID:\")\n",
    "    j = 0\n",
    "    value = 0\n",
    "\n",
    "    for i in range (0,len(stu_list)) :         \n",
    "        if stu_id in stu_list[i][0] :\n",
    "            j += 1\n",
    "            value = i\n",
    "\n",
    "    if j == 0 :\n",
    "        b = print(\"NO SUCH PERSON.\")\n",
    "        return b\n",
    "    \n",
    "    else : \n",
    "        a = [stu_list[value]]\n",
    "    \n",
    "    return formats(a)"
   ]
  },
  {
   "cell_type": "code",
   "execution_count": 425,
   "metadata": {},
   "outputs": [],
   "source": [
    "def CHANGESCORE() :\n",
    "    stu_id = input(\"Student ID:\")\n",
    "    j = 0\n",
    "    value = 0\n",
    "    mid_final = \"\"\n",
    "    new_score = 0\n",
    "    global stu_list\n",
    "\n",
    "\n",
    "    for i in range (0,len(stu_list)) :         \n",
    "        if stu_id in stu_list[i][0] :\n",
    "            j += 1\n",
    "            value = i\n",
    "\n",
    "    if j == 0 :\n",
    "        b = print(\"NO SUCH PERSON.\")\n",
    "        return b\n",
    "    \n",
    "    else : \n",
    "        mid_final = (input(\"Mid/Final?\").upper())\n",
    "        \n",
    "        if mid_final == \"MID\" :\n",
    "\n",
    "            new_score = int(input(\"Input new score:\"))\n",
    "            if new_score > 100 :\n",
    "                return;\n",
    "                \n",
    "            elif new_score < 0 :\n",
    "                return;\n",
    "            \n",
    "            else :\n",
    "                stu_list[value][2] = new_score\n",
    "                score_cal(stu_list)\n",
    "                formats([stu_list[value]])\n",
    "\n",
    "        elif mid_final == 'FINAL' :\n",
    "            new_score = int(input(\"Input new score:\"))\n",
    "            if new_score > 100 :\n",
    "                return;\n",
    "                \n",
    "            elif new_score < 0 :\n",
    "                return;\n",
    "            \n",
    "            else :\n",
    "                stu_list[j][3] = new_score\n",
    "                score_cal(stu_list)\n",
    "                formats([stu_list[value]])"
   ]
  },
  {
   "cell_type": "code",
   "execution_count": 426,
   "metadata": {},
   "outputs": [],
   "source": [
    "def ADD() :\n",
    "    stu_id = input(\"Student ID:\")\n",
    "    j = 0\n",
    "    value = 0\n",
    "    mid_final = \"\"\n",
    "    new_score = 0\n",
    "    global stu_list\n",
    "\n",
    "\n",
    "    for i in range (0,len(stu_list)) :         \n",
    "        if stu_id in stu_list[i][0] :\n",
    "            j += 1\n",
    "            value = i\n",
    "\n",
    "    if j == 0 :\n",
    "        stu_list.append([])\n",
    "        stu_list[len(stu_list)-1].append(stu_id)\n",
    "        stu_list[len(stu_list)-1].append(input(\"Name:\"))\n",
    "        stu_list[len(stu_list)-1].append(input(\"Midterm Score:\"))\n",
    "        stu_list[len(stu_list)-1].append(input(\"Final Score:\"))\n",
    "        stu_list[len(stu_list)-1].append(float())\n",
    "        stu_list[len(stu_list)-1].append(\"\")\n",
    "        score_cal(stu_list)\n",
    "        print (\"Student added.\")\n",
    "    \n",
    "    else :\n",
    "        b = print(\"ALREADY EXISTS\")\n",
    "        return b"
   ]
  },
  {
   "cell_type": "code",
   "execution_count": 427,
   "metadata": {},
   "outputs": [],
   "source": [
    "def SEARCHGRADE() :\n",
    "    grade = input(\"Grade to search:\")\n",
    "    global stu_list\n",
    "    j = 0\n",
    "    value = []\n",
    "    stu_listt = []\n",
    "    \n",
    "    if (grade == \"A\" or grade == \"B\"or grade == \"C\"or grade == \"D\"or grade == \"F\"):\n",
    "        for i in range (0, len(stu_list)) :\n",
    "            if stu_list[i][5] == grade :\n",
    "                j += 1\n",
    "                value.append(i)\n",
    "            \n",
    "        if j == 0 :\n",
    "            print(\"NO RESULTS\")\n",
    "            \n",
    "        else :\n",
    "            for i in value :\n",
    "                stu_listt.append(stu_list[i])\n",
    "        formats(stu_listt)\n",
    "    \n",
    "    else :\n",
    "        return;"
   ]
  },
  {
   "cell_type": "code",
   "execution_count": 428,
   "metadata": {},
   "outputs": [],
   "source": [
    "def REMOVE() :\n",
    "    global stu_list\n",
    "    j = 0\n",
    "    value = 0\n",
    "    \n",
    "    if stu_list == [] :\n",
    "        print(\"List is empty.\")\n",
    "    \n",
    "    else :\n",
    "        stu_id = input(\"Student ID:\")\n",
    "        \n",
    "        for i in range (0,len(stu_list)) :         \n",
    "            if stu_id in stu_list[i][0] :\n",
    "                j += 1\n",
    "                value = i\n",
    "\n",
    "        if j == 0 :\n",
    "            b = print(\"NO SUCH PERSON.\")\n",
    "            return b\n",
    "    \n",
    "        else : \n",
    "            stu_list.pop(value)\n",
    "            print(\"Student removed.\")"
   ]
  },
  {
   "cell_type": "code",
   "execution_count": 444,
   "metadata": {},
   "outputs": [],
   "source": [
    "def QUIT(lists) :\n",
    "    quit = input(\"Save data?[yes/no]\").upper()\n",
    "    \n",
    "    if quit == \"YES\":\n",
    "                \n",
    "        f =  open(\"newStudents.txt\", \"w\")\n",
    "        lists.sort(key=lambda e:e[4], reverse = True)\n",
    "        for i in range(0,len(lists)):\n",
    "            data = (lists[i][0]+\"\\t\"+lists[i][1]+\"\\t\"+lists[i][2]+\"\\t\"+lists[i][3]+\"\\t\"+str(lists[i][4])+\"\\t\"+lists[i][5]+\"\\n\")\n",
    "            f.write(data)\n",
    "        \n",
    "        f.close()\n",
    "        return True    \n",
    "    \n",
    "    else :\n",
    "        return;"
   ]
  },
  {
   "cell_type": "code",
   "execution_count": 443,
   "metadata": {},
   "outputs": [
    {
     "name": "stdout",
     "output_type": "stream",
     "text": [
      " Student              Name   Midterm   Final   Average   Grade\n",
      "--------------------------------------------------------------\n",
      "20180002         Lee Jieun      92       89      90.5      A  \n",
      "20180009      Lee Yeonghee      81       84      82.5      B  \n",
      "20180001      Hong Gildong      84       73      78.5      C  \n",
      "20180011        Ha Donghun      58       68      63.0      D  \n",
      "20180007       Kim Cheolsu      57       62      59.5      F  \n"
     ]
    },
    {
     "name": "stdin",
     "output_type": "stream",
     "text": [
      "# quit\n",
      "Save data?[yes/no] yes\n"
     ]
    }
   ],
   "source": [
    "### 파일 불러오기\n",
    "file_name = input()\n",
    "\n",
    "if file_name != \"\" :\n",
    "    pass\n",
    "    \n",
    "else :\n",
    "    file_name = \"students.txt\"\n",
    "\n",
    "file = open(file_name, \"r\")\n",
    "\n",
    "data = file.read()\n",
    "print (data)\n",
    "\n",
    "### 데이터 가공하기\n",
    "raw = []; student = []; name = []; midterm = []; final = []; info =[]; stu_list =[]\n",
    "\n",
    "raw = data.split(\"\\n\")\n",
    "\n",
    "for i in range(0, len(raw)-1) :\n",
    "    a,b,c,d = raw[i].split(\"\\t\")\n",
    "    student.append(a), name.append(b), midterm.append(c), final.append(d)\n",
    "\n",
    "for i in range(0, len(student)):\n",
    "    info.append([student[i], name[i], midterm[i],final[i]])\n",
    "    stu_list.append(info[i])\n",
    "    \n",
    "stu_list.sort(key=lambda e:e[3], reverse = True)\n",
    "\n",
    "### 평균점수 매기기\n",
    "\n",
    "for i in range(0, len(stu_list)):\n",
    "    stu_list[i].append((((int(stu_list[i][2])) + int(stu_list[i][3]))/2))\n",
    "    \n",
    "for i in range(0, len(stu_list)):\n",
    "    if stu_list[i][4] >= 90 :\n",
    "        stu_list[i].append(\"A\")\n",
    "\n",
    "    elif stu_list[i][4] >= 80 :\n",
    "        stu_list[i].append(\"B\")\n",
    "\n",
    "    elif stu_list[i][4] >= 70 :\n",
    "        stu_list[i].append(\"C\")\n",
    "        \n",
    "    elif stu_list[i][4] >= 60 :\n",
    "        stu_list[i].append(\"D\")\n",
    "        \n",
    "    else :\n",
    "        stu_list[i].append(\"F\")\n",
    "        \n",
    "#메인함수\n",
    "\n",
    "def Main() :\n",
    "    formats(stu_list)\n",
    "\n",
    "    while True :\n",
    "        function = input(\"#\").upper()\n",
    "    \n",
    "        if function == \"SHOW\" :\n",
    "            SHOW(stu_list)\n",
    "    \n",
    "        elif function == \"SEARCH\" :\n",
    "            SEARCH()\n",
    "    \n",
    "        elif function == \"CHANGESCORE\" :\n",
    "            CHANGESCORE()\n",
    "\n",
    "        elif function == \"ADD\" :\n",
    "            ADD()\n",
    "\n",
    "        elif function ==\"SEARCHGRADE\" :\n",
    "            SEARCHGRADE()\n",
    "\n",
    "        elif function == \"REMOVE\" :\n",
    "            REMOVE()\n",
    "\n",
    "        elif function == \"SEARCH\" :\n",
    "            SEARCH()\n",
    "\n",
    "        elif function == \"QUIT\" :\n",
    "            QUIT(stu_list)\n",
    "            break"
   ]
  },
  {
   "cell_type": "code",
   "execution_count": null,
   "metadata": {},
   "outputs": [],
   "source": []
  },
  {
   "cell_type": "code",
   "execution_count": null,
   "metadata": {},
   "outputs": [],
   "source": []
  },
  {
   "cell_type": "code",
   "execution_count": null,
   "metadata": {},
   "outputs": [],
   "source": []
  },
  {
   "cell_type": "code",
   "execution_count": null,
   "metadata": {},
   "outputs": [],
   "source": []
  },
  {
   "cell_type": "code",
   "execution_count": null,
   "metadata": {},
   "outputs": [],
   "source": []
  },
  {
   "cell_type": "code",
   "execution_count": null,
   "metadata": {},
   "outputs": [],
   "source": []
  },
  {
   "cell_type": "code",
   "execution_count": null,
   "metadata": {},
   "outputs": [],
   "source": []
  }
 ],
 "metadata": {
  "kernelspec": {
   "display_name": "Python 3",
   "language": "python",
   "name": "python3"
  },
  "language_info": {
   "codemirror_mode": {
    "name": "ipython",
    "version": 3
   },
   "file_extension": ".py",
   "mimetype": "text/x-python",
   "name": "python",
   "nbconvert_exporter": "python",
   "pygments_lexer": "ipython3",
   "version": "3.7.3"
  }
 },
 "nbformat": 4,
 "nbformat_minor": 2
}

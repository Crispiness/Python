{
 "cells": [
  {
   "cell_type": "code",
   "execution_count": 2,
   "metadata": {},
   "outputs": [
    {
     "name": "stdin",
     "output_type": "stream",
     "text": [
      "1.암호화 2.암호 해석 중 선택: 1\n",
      "입력 파일명을 입력하세요 test.txt\n",
      "출력 파일명을 입력하세요 111\n"
     ]
    }
   ],
   "source": [
    "secuYN = input (\"1.암호화 2.암호 해석 중 선택:\")\n",
    "\n",
    "inputfile = input(\"입력 파일명을 입력하세요\")\n",
    "outputfile = input(\"출력 파일명을 입력하세요\")\n",
    "\n",
    "if secuYN ==1 :\n",
    "    secu = 100\n",
    "elif secuYN ==2 :\n",
    "    secu = -100\n",
    "\n",
    "    r = open(inputfile, \"r\")\n",
    "    w = open(outputfile, \"w\")\n",
    "\n",
    "    for i in r.readline :\n",
    "        num = ord(i)\n",
    "        writing = chr(num + secu)\n",
    "        w.write(writing)\n",
    "\n",
    "    w.close()\n",
    "    r.close()"
   ]
  },
  {
   "cell_type": "markdown",
   "metadata": {},
   "source": [
    "# "
   ]
  }
 ],
 "metadata": {
  "kernelspec": {
   "display_name": "Python 3",
   "language": "python",
   "name": "python3"
  },
  "language_info": {
   "codemirror_mode": {
    "name": "ipython",
    "version": 3
   },
   "file_extension": ".py",
   "mimetype": "text/x-python",
   "name": "python",
   "nbconvert_exporter": "python",
   "pygments_lexer": "ipython3",
   "version": "3.7.3"
  }
 },
 "nbformat": 4,
 "nbformat_minor": 2
}
